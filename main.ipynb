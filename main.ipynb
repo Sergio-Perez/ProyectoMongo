{
 "cells": [
  {
   "cell_type": "code",
   "execution_count": 1,
   "metadata": {},
   "outputs": [
    {
     "data": {
      "text/plain": [
       "True"
      ]
     },
     "execution_count": 1,
     "metadata": {},
     "output_type": "execute_result"
    }
   ],
   "source": [
    "from bs4 import BeautifulSoup\n",
    "from urllib.request import urlopen\n",
    "from pymongo import MongoClient\n",
    "from pymongo import MongoClient, GEOSPHERE\n",
    "\n",
    "from src.BuscarGeooficias import *\n",
    "from src.buscarOficinas import *\n",
    "from src.SacarDireccion import *\n",
    "from src.SacarGeocode import *\n",
    "from src.MasivoGeocoe import *\n",
    "\n",
    "\n",
    "import pandas as pd\n",
    "import requests\n",
    "import os\n",
    "import folium\n",
    "import json\n",
    "from dotenv import load_dotenv\n",
    "load_dotenv()"
   ]
  },
  {
   "cell_type": "code",
   "execution_count": 2,
   "metadata": {},
   "outputs": [],
   "source": [
    "client = MongoClient(\"mongodb://localhost/datamad0320\")\n",
    "db = client.get_database()"
   ]
  },
  {
   "cell_type": "code",
   "execution_count": 3,
   "metadata": {},
   "outputs": [
    {
     "name": "stdout",
     "output_type": "stream",
     "text": [
      "2020-06-03T16:07:14.508+0200\tconnected to: mongodb://localhost/\n",
      "2020-06-03T16:07:14.511+0200\tdropping: datamad0320.ejercicios\n",
      "2020-06-03T16:07:16.918+0200\t18801 document(s) imported successfully. 0 document(s) failed to import.\n"
     ]
    }
   ],
   "source": [
    "!mongoimport --db=datamad0320 --collection=ejercicios --drop ./Output/companies.json\n"
   ]
  },
  {
   "cell_type": "code",
   "execution_count": 4,
   "metadata": {},
   "outputs": [],
   "source": [
    "all_offices = list(db.ejercicios.find({},{\"offices\":1,\"name\":1,\"founded_year\":1,\"category_code\":1}))\n"
   ]
  },
  {
   "cell_type": "code",
   "execution_count": 5,
   "metadata": {},
   "outputs": [
    {
     "data": {
      "text/html": [
       "<div>\n",
       "<style scoped>\n",
       "    .dataframe tbody tr th:only-of-type {\n",
       "        vertical-align: middle;\n",
       "    }\n",
       "\n",
       "    .dataframe tbody tr th {\n",
       "        vertical-align: top;\n",
       "    }\n",
       "\n",
       "    .dataframe thead th {\n",
       "        text-align: right;\n",
       "    }\n",
       "</style>\n",
       "<table border=\"1\" class=\"dataframe\">\n",
       "  <thead>\n",
       "    <tr style=\"text-align: right;\">\n",
       "      <th></th>\n",
       "      <th>_id</th>\n",
       "      <th>name</th>\n",
       "      <th>category_code</th>\n",
       "      <th>founded_year</th>\n",
       "      <th>offices</th>\n",
       "    </tr>\n",
       "  </thead>\n",
       "  <tbody>\n",
       "    <tr>\n",
       "      <th>0</th>\n",
       "      <td>52cdef7c4bab8bd675297d8b</td>\n",
       "      <td>AdventNet</td>\n",
       "      <td>enterprise</td>\n",
       "      <td>1996.0</td>\n",
       "      <td>{'description': 'Headquarters', 'address1': '4...</td>\n",
       "    </tr>\n",
       "    <tr>\n",
       "      <th>1</th>\n",
       "      <td>52cdef7c4bab8bd675297d8c</td>\n",
       "      <td>Zoho</td>\n",
       "      <td>software</td>\n",
       "      <td>2005.0</td>\n",
       "      <td>{'description': 'Headquarters', 'address1': '4...</td>\n",
       "    </tr>\n",
       "    <tr>\n",
       "      <th>2</th>\n",
       "      <td>52cdef7c4bab8bd675297d91</td>\n",
       "      <td>Geni</td>\n",
       "      <td>web</td>\n",
       "      <td>2006.0</td>\n",
       "      <td>{'description': 'Headquarters', 'address1': '9...</td>\n",
       "    </tr>\n",
       "    <tr>\n",
       "      <th>3</th>\n",
       "      <td>52cdef7c4bab8bd675297d92</td>\n",
       "      <td>Flektor</td>\n",
       "      <td>games_video</td>\n",
       "      <td>NaN</td>\n",
       "      <td>{'description': None, 'address1': '8536 Nation...</td>\n",
       "    </tr>\n",
       "    <tr>\n",
       "      <th>4</th>\n",
       "      <td>52cdef7c4bab8bd675297d8d</td>\n",
       "      <td>Digg</td>\n",
       "      <td>news</td>\n",
       "      <td>2004.0</td>\n",
       "      <td>{'description': None, 'address1': '135 Mississ...</td>\n",
       "    </tr>\n",
       "  </tbody>\n",
       "</table>\n",
       "</div>"
      ],
      "text/plain": [
       "                        _id       name category_code  founded_year  \\\n",
       "0  52cdef7c4bab8bd675297d8b  AdventNet    enterprise        1996.0   \n",
       "1  52cdef7c4bab8bd675297d8c       Zoho      software        2005.0   \n",
       "2  52cdef7c4bab8bd675297d91       Geni           web        2006.0   \n",
       "3  52cdef7c4bab8bd675297d92    Flektor   games_video           NaN   \n",
       "4  52cdef7c4bab8bd675297d8d       Digg          news        2004.0   \n",
       "\n",
       "                                             offices  \n",
       "0  {'description': 'Headquarters', 'address1': '4...  \n",
       "1  {'description': 'Headquarters', 'address1': '4...  \n",
       "2  {'description': 'Headquarters', 'address1': '9...  \n",
       "3  {'description': None, 'address1': '8536 Nation...  \n",
       "4  {'description': None, 'address1': '135 Mississ...  "
      ]
     },
     "execution_count": 5,
     "metadata": {},
     "output_type": "execute_result"
    }
   ],
   "source": [
    "companias = pd.DataFrame (all_offices )\n",
    "companias = companias.explode(\"offices\")\n",
    "companias.head()\n"
   ]
  },
  {
   "cell_type": "code",
   "execution_count": 6,
   "metadata": {},
   "outputs": [
    {
     "data": {
      "text/html": [
       "<div>\n",
       "<style scoped>\n",
       "    .dataframe tbody tr th:only-of-type {\n",
       "        vertical-align: middle;\n",
       "    }\n",
       "\n",
       "    .dataframe tbody tr th {\n",
       "        vertical-align: top;\n",
       "    }\n",
       "\n",
       "    .dataframe thead th {\n",
       "        text-align: right;\n",
       "    }\n",
       "</style>\n",
       "<table border=\"1\" class=\"dataframe\">\n",
       "  <thead>\n",
       "    <tr style=\"text-align: right;\">\n",
       "      <th></th>\n",
       "      <th>office</th>\n",
       "      <th>clean_state</th>\n",
       "    </tr>\n",
       "  </thead>\n",
       "  <tbody>\n",
       "    <tr>\n",
       "      <th>0</th>\n",
       "      <td>{'type': 'Point', 'coordinates': [-121.904945,...</td>\n",
       "      <td>success</td>\n",
       "    </tr>\n",
       "    <tr>\n",
       "      <th>1</th>\n",
       "      <td>{'type': 'Point', 'coordinates': [-121.904945,...</td>\n",
       "      <td>success</td>\n",
       "    </tr>\n",
       "    <tr>\n",
       "      <th>2</th>\n",
       "      <td>{'type': 'Point', 'coordinates': [-118.393064,...</td>\n",
       "      <td>success</td>\n",
       "    </tr>\n",
       "    <tr>\n",
       "      <th>3</th>\n",
       "      <td>{'type': 'Point', 'coordinates': [-118.379768,...</td>\n",
       "      <td>success</td>\n",
       "    </tr>\n",
       "    <tr>\n",
       "      <th>4</th>\n",
       "      <td>{'type': 'Point', 'coordinates': [-122.394523,...</td>\n",
       "      <td>success</td>\n",
       "    </tr>\n",
       "  </tbody>\n",
       "</table>\n",
       "</div>"
      ],
      "text/plain": [
       "                                              office clean_state\n",
       "0  {'type': 'Point', 'coordinates': [-121.904945,...     success\n",
       "1  {'type': 'Point', 'coordinates': [-121.904945,...     success\n",
       "2  {'type': 'Point', 'coordinates': [-118.393064,...     success\n",
       "3  {'type': 'Point', 'coordinates': [-118.379768,...     success\n",
       "4  {'type': 'Point', 'coordinates': [-122.394523,...     success"
      ]
     },
     "execution_count": 6,
     "metadata": {},
     "output_type": "execute_result"
    }
   ],
   "source": [
    "limpias_offices = companias.apply(buscaroficinaGeoPoint,axis=1, result_type=\"expand\")\n",
    "limpias_offices.columns = [\"office\",\"clean_state\"]\n",
    "limpias_offices.head()"
   ]
  },
  {
   "cell_type": "code",
   "execution_count": 7,
   "metadata": {},
   "outputs": [],
   "source": [
    "companias_limpias= pd.concat([companias,limpias_offices], axis=1)"
   ]
  },
  {
   "cell_type": "code",
   "execution_count": 8,
   "metadata": {},
   "outputs": [],
   "source": [
    "companias_limpias = companias_limpias[[\"name\",\"category_code\",\"office\",\"clean_state\",\"founded_year\"]]"
   ]
  },
  {
   "cell_type": "code",
   "execution_count": 9,
   "metadata": {},
   "outputs": [
    {
     "data": {
      "text/plain": [
       "success                     10834\n",
       "Invalid lat lat and long     5871\n",
       "No office                    5057\n",
       "Name: clean_state, dtype: int64"
      ]
     },
     "execution_count": 9,
     "metadata": {},
     "output_type": "execute_result"
    }
   ],
   "source": [
    "companias_limpias.clean_state.value_counts()"
   ]
  },
  {
   "cell_type": "code",
   "execution_count": 10,
   "metadata": {},
   "outputs": [],
   "source": [
    "companias_limpias = companias_limpias.drop(companias_limpias.index[companias_limpias[\"clean_state\"]==\"No office\",])"
   ]
  },
  {
   "cell_type": "code",
   "execution_count": 11,
   "metadata": {},
   "outputs": [
    {
     "data": {
      "text/html": [
       "<div>\n",
       "<style scoped>\n",
       "    .dataframe tbody tr th:only-of-type {\n",
       "        vertical-align: middle;\n",
       "    }\n",
       "\n",
       "    .dataframe tbody tr th {\n",
       "        vertical-align: top;\n",
       "    }\n",
       "\n",
       "    .dataframe thead th {\n",
       "        text-align: right;\n",
       "    }\n",
       "</style>\n",
       "<table border=\"1\" class=\"dataframe\">\n",
       "  <thead>\n",
       "    <tr style=\"text-align: right;\">\n",
       "      <th></th>\n",
       "      <th>name</th>\n",
       "      <th>category_code</th>\n",
       "      <th>office</th>\n",
       "      <th>clean_state</th>\n",
       "      <th>founded_year</th>\n",
       "    </tr>\n",
       "  </thead>\n",
       "  <tbody>\n",
       "    <tr>\n",
       "      <th>0</th>\n",
       "      <td>AdventNet</td>\n",
       "      <td>enterprise</td>\n",
       "      <td>{'type': 'Point', 'coordinates': [-121.904945,...</td>\n",
       "      <td>success</td>\n",
       "      <td>1996.0</td>\n",
       "    </tr>\n",
       "    <tr>\n",
       "      <th>1</th>\n",
       "      <td>Zoho</td>\n",
       "      <td>software</td>\n",
       "      <td>{'type': 'Point', 'coordinates': [-121.904945,...</td>\n",
       "      <td>success</td>\n",
       "      <td>2005.0</td>\n",
       "    </tr>\n",
       "    <tr>\n",
       "      <th>2</th>\n",
       "      <td>Geni</td>\n",
       "      <td>web</td>\n",
       "      <td>{'type': 'Point', 'coordinates': [-118.393064,...</td>\n",
       "      <td>success</td>\n",
       "      <td>2006.0</td>\n",
       "    </tr>\n",
       "    <tr>\n",
       "      <th>3</th>\n",
       "      <td>Flektor</td>\n",
       "      <td>games_video</td>\n",
       "      <td>{'type': 'Point', 'coordinates': [-118.379768,...</td>\n",
       "      <td>success</td>\n",
       "      <td>NaN</td>\n",
       "    </tr>\n",
       "    <tr>\n",
       "      <th>4</th>\n",
       "      <td>Digg</td>\n",
       "      <td>news</td>\n",
       "      <td>{'type': 'Point', 'coordinates': [-122.394523,...</td>\n",
       "      <td>success</td>\n",
       "      <td>2004.0</td>\n",
       "    </tr>\n",
       "  </tbody>\n",
       "</table>\n",
       "</div>"
      ],
      "text/plain": [
       "        name category_code                                             office  \\\n",
       "0  AdventNet    enterprise  {'type': 'Point', 'coordinates': [-121.904945,...   \n",
       "1       Zoho      software  {'type': 'Point', 'coordinates': [-121.904945,...   \n",
       "2       Geni           web  {'type': 'Point', 'coordinates': [-118.393064,...   \n",
       "3    Flektor   games_video  {'type': 'Point', 'coordinates': [-118.379768,...   \n",
       "4       Digg          news  {'type': 'Point', 'coordinates': [-122.394523,...   \n",
       "\n",
       "  clean_state  founded_year  \n",
       "0     success        1996.0  \n",
       "1     success        2005.0  \n",
       "2     success        2006.0  \n",
       "3     success           NaN  \n",
       "4     success        2004.0  "
      ]
     },
     "execution_count": 11,
     "metadata": {},
     "output_type": "execute_result"
    }
   ],
   "source": [
    "companias_limpias.clean_state.value_counts()\n",
    "companias_limpias.head()"
   ]
  },
  {
   "cell_type": "code",
   "execution_count": 12,
   "metadata": {},
   "outputs": [],
   "source": [
    "companias_limpias.rename(columns={'office':'coordenadas'}, inplace=True)"
   ]
  },
  {
   "cell_type": "code",
   "execution_count": 13,
   "metadata": {},
   "outputs": [],
   "source": [
    "companias_limpias = companias_limpias.reset_index()"
   ]
  },
  {
   "cell_type": "code",
   "execution_count": 14,
   "metadata": {},
   "outputs": [],
   "source": [
    "companias_limpias = companias_limpias.drop(['index'], axis=1)"
   ]
  },
  {
   "cell_type": "code",
   "execution_count": 15,
   "metadata": {},
   "outputs": [
    {
     "data": {
      "text/html": [
       "<div>\n",
       "<style scoped>\n",
       "    .dataframe tbody tr th:only-of-type {\n",
       "        vertical-align: middle;\n",
       "    }\n",
       "\n",
       "    .dataframe tbody tr th {\n",
       "        vertical-align: top;\n",
       "    }\n",
       "\n",
       "    .dataframe thead th {\n",
       "        text-align: right;\n",
       "    }\n",
       "</style>\n",
       "<table border=\"1\" class=\"dataframe\">\n",
       "  <thead>\n",
       "    <tr style=\"text-align: right;\">\n",
       "      <th></th>\n",
       "      <th>name</th>\n",
       "      <th>category_code</th>\n",
       "      <th>coordenadas</th>\n",
       "      <th>clean_state</th>\n",
       "      <th>founded_year</th>\n",
       "    </tr>\n",
       "  </thead>\n",
       "  <tbody>\n",
       "    <tr>\n",
       "      <th>0</th>\n",
       "      <td>AdventNet</td>\n",
       "      <td>enterprise</td>\n",
       "      <td>{'type': 'Point', 'coordinates': [-121.904945,...</td>\n",
       "      <td>success</td>\n",
       "      <td>1996.0</td>\n",
       "    </tr>\n",
       "    <tr>\n",
       "      <th>1</th>\n",
       "      <td>Zoho</td>\n",
       "      <td>software</td>\n",
       "      <td>{'type': 'Point', 'coordinates': [-121.904945,...</td>\n",
       "      <td>success</td>\n",
       "      <td>2005.0</td>\n",
       "    </tr>\n",
       "    <tr>\n",
       "      <th>2</th>\n",
       "      <td>Geni</td>\n",
       "      <td>web</td>\n",
       "      <td>{'type': 'Point', 'coordinates': [-118.393064,...</td>\n",
       "      <td>success</td>\n",
       "      <td>2006.0</td>\n",
       "    </tr>\n",
       "    <tr>\n",
       "      <th>3</th>\n",
       "      <td>Flektor</td>\n",
       "      <td>games_video</td>\n",
       "      <td>{'type': 'Point', 'coordinates': [-118.379768,...</td>\n",
       "      <td>success</td>\n",
       "      <td>NaN</td>\n",
       "    </tr>\n",
       "    <tr>\n",
       "      <th>4</th>\n",
       "      <td>Digg</td>\n",
       "      <td>news</td>\n",
       "      <td>{'type': 'Point', 'coordinates': [-122.394523,...</td>\n",
       "      <td>success</td>\n",
       "      <td>2004.0</td>\n",
       "    </tr>\n",
       "  </tbody>\n",
       "</table>\n",
       "</div>"
      ],
      "text/plain": [
       "        name category_code                                        coordenadas  \\\n",
       "0  AdventNet    enterprise  {'type': 'Point', 'coordinates': [-121.904945,...   \n",
       "1       Zoho      software  {'type': 'Point', 'coordinates': [-121.904945,...   \n",
       "2       Geni           web  {'type': 'Point', 'coordinates': [-118.393064,...   \n",
       "3    Flektor   games_video  {'type': 'Point', 'coordinates': [-118.379768,...   \n",
       "4       Digg          news  {'type': 'Point', 'coordinates': [-122.394523,...   \n",
       "\n",
       "  clean_state  founded_year  \n",
       "0     success        1996.0  \n",
       "1     success        2005.0  \n",
       "2     success        2006.0  \n",
       "3     success           NaN  \n",
       "4     success        2004.0  "
      ]
     },
     "execution_count": 15,
     "metadata": {},
     "output_type": "execute_result"
    }
   ],
   "source": [
    "companias_limpias.head()"
   ]
  },
  {
   "cell_type": "code",
   "execution_count": 16,
   "metadata": {},
   "outputs": [
    {
     "data": {
      "text/html": [
       "<div>\n",
       "<style scoped>\n",
       "    .dataframe tbody tr th:only-of-type {\n",
       "        vertical-align: middle;\n",
       "    }\n",
       "\n",
       "    .dataframe tbody tr th {\n",
       "        vertical-align: top;\n",
       "    }\n",
       "\n",
       "    .dataframe thead th {\n",
       "        text-align: right;\n",
       "    }\n",
       "</style>\n",
       "<table border=\"1\" class=\"dataframe\">\n",
       "  <thead>\n",
       "    <tr style=\"text-align: right;\">\n",
       "      <th></th>\n",
       "      <th>name</th>\n",
       "      <th>category_code</th>\n",
       "      <th>coordenadas</th>\n",
       "      <th>clean_state</th>\n",
       "      <th>founded_year</th>\n",
       "    </tr>\n",
       "  </thead>\n",
       "  <tbody>\n",
       "    <tr>\n",
       "      <th>0</th>\n",
       "      <td>AdventNet</td>\n",
       "      <td>enterprise</td>\n",
       "      <td>{'type': 'Point', 'coordinates': [-121.904945,...</td>\n",
       "      <td>success</td>\n",
       "      <td>1996.0</td>\n",
       "    </tr>\n",
       "    <tr>\n",
       "      <th>1</th>\n",
       "      <td>Zoho</td>\n",
       "      <td>software</td>\n",
       "      <td>{'type': 'Point', 'coordinates': [-121.904945,...</td>\n",
       "      <td>success</td>\n",
       "      <td>2005.0</td>\n",
       "    </tr>\n",
       "    <tr>\n",
       "      <th>2</th>\n",
       "      <td>Geni</td>\n",
       "      <td>web</td>\n",
       "      <td>{'type': 'Point', 'coordinates': [-118.393064,...</td>\n",
       "      <td>success</td>\n",
       "      <td>2006.0</td>\n",
       "    </tr>\n",
       "    <tr>\n",
       "      <th>4</th>\n",
       "      <td>Digg</td>\n",
       "      <td>news</td>\n",
       "      <td>{'type': 'Point', 'coordinates': [-122.394523,...</td>\n",
       "      <td>success</td>\n",
       "      <td>2004.0</td>\n",
       "    </tr>\n",
       "    <tr>\n",
       "      <th>5</th>\n",
       "      <td>Fox Interactive Media</td>\n",
       "      <td>web</td>\n",
       "      <td>{'type': 'Point', 'coordinates': [-118.39417, ...</td>\n",
       "      <td>success</td>\n",
       "      <td>1979.0</td>\n",
       "    </tr>\n",
       "  </tbody>\n",
       "</table>\n",
       "</div>"
      ],
      "text/plain": [
       "                    name category_code  \\\n",
       "0              AdventNet    enterprise   \n",
       "1                   Zoho      software   \n",
       "2                   Geni           web   \n",
       "4                   Digg          news   \n",
       "5  Fox Interactive Media           web   \n",
       "\n",
       "                                         coordenadas clean_state  founded_year  \n",
       "0  {'type': 'Point', 'coordinates': [-121.904945,...     success        1996.0  \n",
       "1  {'type': 'Point', 'coordinates': [-121.904945,...     success        2005.0  \n",
       "2  {'type': 'Point', 'coordinates': [-118.393064,...     success        2006.0  \n",
       "4  {'type': 'Point', 'coordinates': [-122.394523,...     success        2004.0  \n",
       "5  {'type': 'Point', 'coordinates': [-118.39417, ...     success        1979.0  "
      ]
     },
     "execution_count": 16,
     "metadata": {},
     "output_type": "execute_result"
    }
   ],
   "source": [
    "companias_limpias = companias_limpias.dropna(subset=[\"founded_year\"])\n",
    "companias_limpias.head()"
   ]
  },
  {
   "cell_type": "code",
   "execution_count": 17,
   "metadata": {},
   "outputs": [],
   "source": [
    "companias_limpias.to_json(\"Input/Companias.json\",orient=\"records\")"
   ]
  },
  {
   "cell_type": "code",
   "execution_count": 18,
   "metadata": {},
   "outputs": [
    {
     "name": "stdout",
     "output_type": "stream",
     "text": [
      "2020-06-03T16:07:20.129+0200\tconnected to: mongodb://localhost/\n",
      "2020-06-03T16:07:20.129+0200\tdropping: datamad0320.CompaniasLimpias\n",
      "2020-06-03T16:07:20.368+0200\t14057 document(s) imported successfully. 0 document(s) failed to import.\n"
     ]
    }
   ],
   "source": [
    "!mongoimport --db=datamad0320 --collection=CompaniasLimpias --drop --jsonArray ./Input/Companias.json"
   ]
  },
  {
   "cell_type": "code",
   "execution_count": 19,
   "metadata": {},
   "outputs": [
    {
     "data": {
      "text/plain": [
       "'coordenadas_2dsphere'"
      ]
     },
     "execution_count": 19,
     "metadata": {},
     "output_type": "execute_result"
    }
   ],
   "source": [
    "db.CompaniasLimpias.create_index([(\"coordenadas\", GEOSPHERE)])\n"
   ]
  },
  {
   "cell_type": "code",
   "execution_count": 20,
   "metadata": {},
   "outputs": [
    {
     "name": "stdout",
     "output_type": "stream",
     "text": [
      "<Response [200]>\n"
     ]
    },
    {
     "data": {
      "text/plain": [
       "{'Lugares': {'$near': {'$geometry': {'type': 'Point',\n",
       "    'coordinates': [-3.67744, 40.40816]},\n",
       "   '$maxDistance': 4000}}}"
      ]
     },
     "execution_count": 20,
     "metadata": {},
     "output_type": "execute_result"
    }
   ],
   "source": [
    "query = getBuscar(\"RETIRO Madrid\",4000)\n",
    "query"
   ]
  },
  {
   "cell_type": "markdown",
   "metadata": {},
   "source": []
  },
  {
   "cell_type": "code",
   "execution_count": 21,
   "metadata": {},
   "outputs": [
    {
     "data": {
      "text/plain": [
       "30"
      ]
     },
     "execution_count": 21,
     "metadata": {},
     "output_type": "execute_result"
    }
   ],
   "source": [
    "cur=(list(db.CompaniasLimpias.find({\"coordenadas\": {\"$near\":{\"$geometry\":{\"type\":\"Point\",\"coordinates\":[ -3.67744,40.40816]},\"$maxDistance\":5000}}})))\n",
    "\n",
    "#cur = db.NewYorkCompanis.find(query.update({\"clean_state\":\"success\"}), {\"_id\":0})\n",
    "#cur =( db.CompaniasLimpias.find({\"Lugares\":['$near': {'$geometry': {'type': 'Point', 'coordinates':\n",
    "                #[-3.67744, 40.40816]},'$maxDistance': 5000},{\"_id\":0}]})\n",
    "\n",
    "result = cur\n",
    "len(list(result))"
   ]
  },
  {
   "cell_type": "code",
   "execution_count": 22,
   "metadata": {},
   "outputs": [
    {
     "data": {
      "text/html": [
       "<div>\n",
       "<style scoped>\n",
       "    .dataframe tbody tr th:only-of-type {\n",
       "        vertical-align: middle;\n",
       "    }\n",
       "\n",
       "    .dataframe tbody tr th {\n",
       "        vertical-align: top;\n",
       "    }\n",
       "\n",
       "    .dataframe thead th {\n",
       "        text-align: right;\n",
       "    }\n",
       "</style>\n",
       "<table border=\"1\" class=\"dataframe\">\n",
       "  <thead>\n",
       "    <tr style=\"text-align: right;\">\n",
       "      <th></th>\n",
       "      <th>_id</th>\n",
       "      <th>name</th>\n",
       "      <th>category_code</th>\n",
       "      <th>coordenadas</th>\n",
       "      <th>clean_state</th>\n",
       "      <th>founded_year</th>\n",
       "    </tr>\n",
       "  </thead>\n",
       "  <tbody>\n",
       "    <tr>\n",
       "      <th>0</th>\n",
       "      <td>5ed7ae9849f7b6955370190c</td>\n",
       "      <td>Digital Assets Deployment</td>\n",
       "      <td>ecommerce</td>\n",
       "      <td>{'type': 'Point', 'coordinates': [-3.678121, 4...</td>\n",
       "      <td>success</td>\n",
       "      <td>2006.0</td>\n",
       "    </tr>\n",
       "    <tr>\n",
       "      <th>1</th>\n",
       "      <td>5ed7ae9849f7b69553702743</td>\n",
       "      <td>Busuu</td>\n",
       "      <td>social</td>\n",
       "      <td>{'type': 'Point', 'coordinates': [-3.6830316, ...</td>\n",
       "      <td>success</td>\n",
       "      <td>2008.0</td>\n",
       "    </tr>\n",
       "    <tr>\n",
       "      <th>2</th>\n",
       "      <td>5ed7ae9849f7b695537031df</td>\n",
       "      <td>Tuenti Technologies</td>\n",
       "      <td>social</td>\n",
       "      <td>{'type': 'Point', 'coordinates': [-3.696277, 4...</td>\n",
       "      <td>success</td>\n",
       "      <td>2006.0</td>\n",
       "    </tr>\n",
       "  </tbody>\n",
       "</table>\n",
       "</div>"
      ],
      "text/plain": [
       "                        _id                       name category_code  \\\n",
       "0  5ed7ae9849f7b6955370190c  Digital Assets Deployment     ecommerce   \n",
       "1  5ed7ae9849f7b69553702743                      Busuu        social   \n",
       "2  5ed7ae9849f7b695537031df        Tuenti Technologies        social   \n",
       "\n",
       "                                         coordenadas clean_state  founded_year  \n",
       "0  {'type': 'Point', 'coordinates': [-3.678121, 4...     success        2006.0  \n",
       "1  {'type': 'Point', 'coordinates': [-3.6830316, ...     success        2008.0  \n",
       "2  {'type': 'Point', 'coordinates': [-3.696277, 4...     success        2006.0  "
      ]
     },
     "execution_count": 22,
     "metadata": {},
     "output_type": "execute_result"
    }
   ],
   "source": [
    "madridcompanies = pd.DataFrame(result)\n",
    "madridcompanies.head(3)"
   ]
  },
  {
   "cell_type": "code",
   "execution_count": 23,
   "metadata": {},
   "outputs": [
    {
     "data": {
      "text/html": [
       "<div>\n",
       "<style scoped>\n",
       "    .dataframe tbody tr th:only-of-type {\n",
       "        vertical-align: middle;\n",
       "    }\n",
       "\n",
       "    .dataframe tbody tr th {\n",
       "        vertical-align: top;\n",
       "    }\n",
       "\n",
       "    .dataframe thead th {\n",
       "        text-align: right;\n",
       "    }\n",
       "</style>\n",
       "<table border=\"1\" class=\"dataframe\">\n",
       "  <thead>\n",
       "    <tr style=\"text-align: right;\">\n",
       "      <th></th>\n",
       "      <th>name</th>\n",
       "      <th>category_code</th>\n",
       "      <th>coordenadas</th>\n",
       "      <th>clean_state</th>\n",
       "      <th>founded_year</th>\n",
       "    </tr>\n",
       "  </thead>\n",
       "  <tbody>\n",
       "    <tr>\n",
       "      <th>0</th>\n",
       "      <td>Digital Assets Deployment</td>\n",
       "      <td>ecommerce</td>\n",
       "      <td>{'type': 'Point', 'coordinates': [-3.678121, 4...</td>\n",
       "      <td>success</td>\n",
       "      <td>2006.0</td>\n",
       "    </tr>\n",
       "    <tr>\n",
       "      <th>1</th>\n",
       "      <td>Busuu</td>\n",
       "      <td>social</td>\n",
       "      <td>{'type': 'Point', 'coordinates': [-3.6830316, ...</td>\n",
       "      <td>success</td>\n",
       "      <td>2008.0</td>\n",
       "    </tr>\n",
       "    <tr>\n",
       "      <th>2</th>\n",
       "      <td>Tuenti Technologies</td>\n",
       "      <td>social</td>\n",
       "      <td>{'type': 'Point', 'coordinates': [-3.696277, 4...</td>\n",
       "      <td>success</td>\n",
       "      <td>2006.0</td>\n",
       "    </tr>\n",
       "    <tr>\n",
       "      <th>3</th>\n",
       "      <td>Tagmore Solutions</td>\n",
       "      <td>mobile</td>\n",
       "      <td>{'type': 'Point', 'coordinates': [-3.6883074, ...</td>\n",
       "      <td>success</td>\n",
       "      <td>2007.0</td>\n",
       "    </tr>\n",
       "    <tr>\n",
       "      <th>4</th>\n",
       "      <td>ASPgems</td>\n",
       "      <td>software</td>\n",
       "      <td>{'type': 'Point', 'coordinates': [-3.6992667, ...</td>\n",
       "      <td>success</td>\n",
       "      <td>2006.0</td>\n",
       "    </tr>\n",
       "    <tr>\n",
       "      <th>5</th>\n",
       "      <td>IMASTE</td>\n",
       "      <td>enterprise</td>\n",
       "      <td>{'type': 'Point', 'coordinates': [-3.6755166, ...</td>\n",
       "      <td>success</td>\n",
       "      <td>2003.0</td>\n",
       "    </tr>\n",
       "    <tr>\n",
       "      <th>6</th>\n",
       "      <td>Daily Flat Rental</td>\n",
       "      <td>ecommerce</td>\n",
       "      <td>{'type': 'Point', 'coordinates': [-3.703248, 4...</td>\n",
       "      <td>success</td>\n",
       "      <td>2008.0</td>\n",
       "    </tr>\n",
       "    <tr>\n",
       "      <th>7</th>\n",
       "      <td>Daily Flat Rental</td>\n",
       "      <td>ecommerce</td>\n",
       "      <td>{'type': 'Point', 'coordinates': [-3.703248, 4...</td>\n",
       "      <td>success</td>\n",
       "      <td>2008.0</td>\n",
       "    </tr>\n",
       "    <tr>\n",
       "      <th>8</th>\n",
       "      <td>Nexway</td>\n",
       "      <td>ecommerce</td>\n",
       "      <td>{'type': 'Point', 'coordinates': [-3.7033074, ...</td>\n",
       "      <td>success</td>\n",
       "      <td>2002.0</td>\n",
       "    </tr>\n",
       "    <tr>\n",
       "      <th>9</th>\n",
       "      <td>DOMODESK</td>\n",
       "      <td>mobile</td>\n",
       "      <td>{'type': 'Point', 'coordinates': [-3.6510254, ...</td>\n",
       "      <td>success</td>\n",
       "      <td>1998.0</td>\n",
       "    </tr>\n",
       "    <tr>\n",
       "      <th>10</th>\n",
       "      <td>Virgin Play</td>\n",
       "      <td>games_video</td>\n",
       "      <td>{'type': 'Point', 'coordinates': [-3.6895115, ...</td>\n",
       "      <td>success</td>\n",
       "      <td>1995.0</td>\n",
       "    </tr>\n",
       "    <tr>\n",
       "      <th>11</th>\n",
       "      <td>Netsize</td>\n",
       "      <td>mobile</td>\n",
       "      <td>{'type': 'Point', 'coordinates': [-3.7032498, ...</td>\n",
       "      <td>success</td>\n",
       "      <td>1998.0</td>\n",
       "    </tr>\n",
       "    <tr>\n",
       "      <th>12</th>\n",
       "      <td>BuyVIP</td>\n",
       "      <td>ecommerce</td>\n",
       "      <td>{'type': 'Point', 'coordinates': [-3.7032498, ...</td>\n",
       "      <td>success</td>\n",
       "      <td>2006.0</td>\n",
       "    </tr>\n",
       "    <tr>\n",
       "      <th>13</th>\n",
       "      <td>AtelMedia</td>\n",
       "      <td>software</td>\n",
       "      <td>{'type': 'Point', 'coordinates': [-3.70325, 40...</td>\n",
       "      <td>success</td>\n",
       "      <td>2006.0</td>\n",
       "    </tr>\n",
       "    <tr>\n",
       "      <th>14</th>\n",
       "      <td>NotePub</td>\n",
       "      <td>web</td>\n",
       "      <td>{'type': 'Point', 'coordinates': [-3.70325, 40...</td>\n",
       "      <td>success</td>\n",
       "      <td>2008.0</td>\n",
       "    </tr>\n",
       "    <tr>\n",
       "      <th>15</th>\n",
       "      <td>Taxi Fares app</td>\n",
       "      <td>software</td>\n",
       "      <td>{'type': 'Point', 'coordinates': [-3.6990948, ...</td>\n",
       "      <td>success</td>\n",
       "      <td>2009.0</td>\n",
       "    </tr>\n",
       "    <tr>\n",
       "      <th>16</th>\n",
       "      <td>IntraWorlds</td>\n",
       "      <td>software</td>\n",
       "      <td>{'type': 'Point', 'coordinates': [-3.7015237, ...</td>\n",
       "      <td>success</td>\n",
       "      <td>2002.0</td>\n",
       "    </tr>\n",
       "    <tr>\n",
       "      <th>17</th>\n",
       "      <td>eRepublik</td>\n",
       "      <td>games_video</td>\n",
       "      <td>{'type': 'Point', 'coordinates': [-3.6952896, ...</td>\n",
       "      <td>success</td>\n",
       "      <td>2007.0</td>\n",
       "    </tr>\n",
       "    <tr>\n",
       "      <th>18</th>\n",
       "      <td>PowerVote</td>\n",
       "      <td>hardware</td>\n",
       "      <td>{'type': 'Point', 'coordinates': [-3.6782829, ...</td>\n",
       "      <td>success</td>\n",
       "      <td>2006.0</td>\n",
       "    </tr>\n",
       "    <tr>\n",
       "      <th>19</th>\n",
       "      <td>Gennio</td>\n",
       "      <td>web</td>\n",
       "      <td>{'type': 'Point', 'coordinates': [-3.6782829, ...</td>\n",
       "      <td>success</td>\n",
       "      <td>2005.0</td>\n",
       "    </tr>\n",
       "    <tr>\n",
       "      <th>20</th>\n",
       "      <td>ISID</td>\n",
       "      <td>software</td>\n",
       "      <td>{'type': 'Point', 'coordinates': [-3.686534, 4...</td>\n",
       "      <td>success</td>\n",
       "      <td>1996.0</td>\n",
       "    </tr>\n",
       "    <tr>\n",
       "      <th>21</th>\n",
       "      <td>pomeloTV</td>\n",
       "      <td>software</td>\n",
       "      <td>{'type': 'Point', 'coordinates': [-3.6685036, ...</td>\n",
       "      <td>success</td>\n",
       "      <td>2007.0</td>\n",
       "    </tr>\n",
       "    <tr>\n",
       "      <th>22</th>\n",
       "      <td>DAEDALUS - Data, Decisions and Language</td>\n",
       "      <td>software</td>\n",
       "      <td>{'type': 'Point', 'coordinates': [-3.6866654, ...</td>\n",
       "      <td>success</td>\n",
       "      <td>1998.0</td>\n",
       "    </tr>\n",
       "    <tr>\n",
       "      <th>23</th>\n",
       "      <td>Entropy Computational Services</td>\n",
       "      <td>games_video</td>\n",
       "      <td>{'type': 'Point', 'coordinates': [-3.6760635, ...</td>\n",
       "      <td>success</td>\n",
       "      <td>2007.0</td>\n",
       "    </tr>\n",
       "    <tr>\n",
       "      <th>24</th>\n",
       "      <td>Ohlala! Mobile</td>\n",
       "      <td>mobile</td>\n",
       "      <td>{'type': 'Point', 'coordinates': [-3.6496952, ...</td>\n",
       "      <td>success</td>\n",
       "      <td>2008.0</td>\n",
       "    </tr>\n",
       "    <tr>\n",
       "      <th>25</th>\n",
       "      <td>tarifas24</td>\n",
       "      <td>public_relations</td>\n",
       "      <td>{'type': 'Point', 'coordinates': [-3.7105118, ...</td>\n",
       "      <td>success</td>\n",
       "      <td>2008.0</td>\n",
       "    </tr>\n",
       "    <tr>\n",
       "      <th>26</th>\n",
       "      <td>I6NET</td>\n",
       "      <td>software</td>\n",
       "      <td>{'type': 'Point', 'coordinates': [-3.7056763, ...</td>\n",
       "      <td>success</td>\n",
       "      <td>2002.0</td>\n",
       "    </tr>\n",
       "    <tr>\n",
       "      <th>27</th>\n",
       "      <td>Unkasoft Advergaming</td>\n",
       "      <td>mobile</td>\n",
       "      <td>{'type': 'Point', 'coordinates': [-3.6714915, ...</td>\n",
       "      <td>success</td>\n",
       "      <td>2004.0</td>\n",
       "    </tr>\n",
       "    <tr>\n",
       "      <th>28</th>\n",
       "      <td>Buongiorno</td>\n",
       "      <td>mobile</td>\n",
       "      <td>{'type': 'Point', 'coordinates': [-3.6697641, ...</td>\n",
       "      <td>success</td>\n",
       "      <td>1999.0</td>\n",
       "    </tr>\n",
       "    <tr>\n",
       "      <th>29</th>\n",
       "      <td>ticketea</td>\n",
       "      <td>ecommerce</td>\n",
       "      <td>{'type': 'Point', 'coordinates': [-3.7061764, ...</td>\n",
       "      <td>success</td>\n",
       "      <td>2010.0</td>\n",
       "    </tr>\n",
       "  </tbody>\n",
       "</table>\n",
       "</div>"
      ],
      "text/plain": [
       "                                       name     category_code  \\\n",
       "0                 Digital Assets Deployment         ecommerce   \n",
       "1                                     Busuu            social   \n",
       "2                       Tuenti Technologies            social   \n",
       "3                         Tagmore Solutions            mobile   \n",
       "4                                   ASPgems          software   \n",
       "5                                    IMASTE        enterprise   \n",
       "6                         Daily Flat Rental         ecommerce   \n",
       "7                         Daily Flat Rental         ecommerce   \n",
       "8                                    Nexway         ecommerce   \n",
       "9                                  DOMODESK            mobile   \n",
       "10                              Virgin Play       games_video   \n",
       "11                                  Netsize            mobile   \n",
       "12                                   BuyVIP         ecommerce   \n",
       "13                                AtelMedia          software   \n",
       "14                                  NotePub               web   \n",
       "15                           Taxi Fares app          software   \n",
       "16                              IntraWorlds          software   \n",
       "17                                eRepublik       games_video   \n",
       "18                                PowerVote          hardware   \n",
       "19                                   Gennio               web   \n",
       "20                                     ISID          software   \n",
       "21                                 pomeloTV          software   \n",
       "22  DAEDALUS - Data, Decisions and Language          software   \n",
       "23           Entropy Computational Services       games_video   \n",
       "24                           Ohlala! Mobile            mobile   \n",
       "25                                tarifas24  public_relations   \n",
       "26                                    I6NET          software   \n",
       "27                     Unkasoft Advergaming            mobile   \n",
       "28                               Buongiorno            mobile   \n",
       "29                                 ticketea         ecommerce   \n",
       "\n",
       "                                          coordenadas clean_state  \\\n",
       "0   {'type': 'Point', 'coordinates': [-3.678121, 4...     success   \n",
       "1   {'type': 'Point', 'coordinates': [-3.6830316, ...     success   \n",
       "2   {'type': 'Point', 'coordinates': [-3.696277, 4...     success   \n",
       "3   {'type': 'Point', 'coordinates': [-3.6883074, ...     success   \n",
       "4   {'type': 'Point', 'coordinates': [-3.6992667, ...     success   \n",
       "5   {'type': 'Point', 'coordinates': [-3.6755166, ...     success   \n",
       "6   {'type': 'Point', 'coordinates': [-3.703248, 4...     success   \n",
       "7   {'type': 'Point', 'coordinates': [-3.703248, 4...     success   \n",
       "8   {'type': 'Point', 'coordinates': [-3.7033074, ...     success   \n",
       "9   {'type': 'Point', 'coordinates': [-3.6510254, ...     success   \n",
       "10  {'type': 'Point', 'coordinates': [-3.6895115, ...     success   \n",
       "11  {'type': 'Point', 'coordinates': [-3.7032498, ...     success   \n",
       "12  {'type': 'Point', 'coordinates': [-3.7032498, ...     success   \n",
       "13  {'type': 'Point', 'coordinates': [-3.70325, 40...     success   \n",
       "14  {'type': 'Point', 'coordinates': [-3.70325, 40...     success   \n",
       "15  {'type': 'Point', 'coordinates': [-3.6990948, ...     success   \n",
       "16  {'type': 'Point', 'coordinates': [-3.7015237, ...     success   \n",
       "17  {'type': 'Point', 'coordinates': [-3.6952896, ...     success   \n",
       "18  {'type': 'Point', 'coordinates': [-3.6782829, ...     success   \n",
       "19  {'type': 'Point', 'coordinates': [-3.6782829, ...     success   \n",
       "20  {'type': 'Point', 'coordinates': [-3.686534, 4...     success   \n",
       "21  {'type': 'Point', 'coordinates': [-3.6685036, ...     success   \n",
       "22  {'type': 'Point', 'coordinates': [-3.6866654, ...     success   \n",
       "23  {'type': 'Point', 'coordinates': [-3.6760635, ...     success   \n",
       "24  {'type': 'Point', 'coordinates': [-3.6496952, ...     success   \n",
       "25  {'type': 'Point', 'coordinates': [-3.7105118, ...     success   \n",
       "26  {'type': 'Point', 'coordinates': [-3.7056763, ...     success   \n",
       "27  {'type': 'Point', 'coordinates': [-3.6714915, ...     success   \n",
       "28  {'type': 'Point', 'coordinates': [-3.6697641, ...     success   \n",
       "29  {'type': 'Point', 'coordinates': [-3.7061764, ...     success   \n",
       "\n",
       "    founded_year  \n",
       "0         2006.0  \n",
       "1         2008.0  \n",
       "2         2006.0  \n",
       "3         2007.0  \n",
       "4         2006.0  \n",
       "5         2003.0  \n",
       "6         2008.0  \n",
       "7         2008.0  \n",
       "8         2002.0  \n",
       "9         1998.0  \n",
       "10        1995.0  \n",
       "11        1998.0  \n",
       "12        2006.0  \n",
       "13        2006.0  \n",
       "14        2008.0  \n",
       "15        2009.0  \n",
       "16        2002.0  \n",
       "17        2007.0  \n",
       "18        2006.0  \n",
       "19        2005.0  \n",
       "20        1996.0  \n",
       "21        2007.0  \n",
       "22        1998.0  \n",
       "23        2007.0  \n",
       "24        2008.0  \n",
       "25        2008.0  \n",
       "26        2002.0  \n",
       "27        2004.0  \n",
       "28        1999.0  \n",
       "29        2010.0  "
      ]
     },
     "execution_count": 23,
     "metadata": {},
     "output_type": "execute_result"
    }
   ],
   "source": [
    "madridcompanies.drop(columns=[\"_id\"],inplace=True)\n",
    "madridcompanies"
   ]
  },
  {
   "cell_type": "code",
   "execution_count": 24,
   "metadata": {},
   "outputs": [],
   "source": [
    "madridcompanies.to_json(\"Input/madridcompanies.json\",orient=\"records\")"
   ]
  },
  {
   "cell_type": "code",
   "execution_count": 25,
   "metadata": {},
   "outputs": [
    {
     "name": "stdout",
     "output_type": "stream",
     "text": [
      "2020-06-03T16:07:22.086+0200\tconnected to: mongodb://localhost/\r\n",
      "2020-06-03T16:07:22.086+0200\tdropping: datamad0320.madridcompanies\r\n",
      "2020-06-03T16:07:22.108+0200\t30 document(s) imported successfully. 0 document(s) failed to import.\r\n"
     ]
    }
   ],
   "source": [
    "!mongoimport --db=datamad0320 --collection=madridcompanies --drop --jsonArray ./Input/madridcompanies.json"
   ]
  },
  {
   "cell_type": "code",
   "execution_count": 26,
   "metadata": {},
   "outputs": [
    {
     "name": "stderr",
     "output_type": "stream",
     "text": [
      "/home/sergio/bootcamp/ProyectoMongo/src/SacarDireccion.py:27: GuessedAtParserWarning: No parser was explicitly specified, so I'm using the best available HTML parser for this system (\"html.parser\"). This usually isn't a problem, but if you run this code on another system, or in a different virtual environment, it may use a different parser and behave differently.\n",
      "\n",
      "The code that caused this warning is on line 27 of the file /home/sergio/bootcamp/ProyectoMongo/src/SacarDireccion.py. To get rid of this warning, pass the additional argument 'features=\"html.parser\"' to the BeautifulSoup constructor.\n",
      "\n",
      "  soup = BeautifulSoup(data.text)\n"
     ]
    }
   ],
   "source": [
    "guarderiasretiro = ExtractDireccion(\"madrid retiro\",\"guarderias\", 2)\n",
    "aeropuerto = ExtractDireccion(\"madrid\",\"aeropuerto\", 1)\n",
    "starbucks = ExtractDireccion(\"madrid retiro\",\"starbucks\", 1)"
   ]
  },
  {
   "cell_type": "code",
   "execution_count": 27,
   "metadata": {},
   "outputs": [],
   "source": [
    "guarderiasretiroDatos = pd.DataFrame(guarderiasretiro)\n",
    "aeropuertoDatos = pd.DataFrame(aeropuerto)\n",
    "starbucksDatos = pd.DataFrame(starbucks)"
   ]
  },
  {
   "cell_type": "code",
   "execution_count": 28,
   "metadata": {},
   "outputs": [],
   "source": [
    "#Renombro las columnas con name y adress\n",
    "aeropuertoDatos = aeropuertoDatos.rename(columns={0:'name',1:'adress'})\n",
    "starbucksDatos= starbucksDatos.rename(columns={0:'name',1:'adress'})\n",
    "guarderiasretiroDatos = guarderiasretiroDatos.rename(columns={0:'name',1:'adress'})"
   ]
  },
  {
   "cell_type": "code",
   "execution_count": 29,
   "metadata": {},
   "outputs": [
    {
     "data": {
      "text/html": [
       "<div>\n",
       "<style scoped>\n",
       "    .dataframe tbody tr th:only-of-type {\n",
       "        vertical-align: middle;\n",
       "    }\n",
       "\n",
       "    .dataframe tbody tr th {\n",
       "        vertical-align: top;\n",
       "    }\n",
       "\n",
       "    .dataframe thead th {\n",
       "        text-align: right;\n",
       "    }\n",
       "</style>\n",
       "<table border=\"1\" class=\"dataframe\">\n",
       "  <thead>\n",
       "    <tr style=\"text-align: right;\">\n",
       "      <th></th>\n",
       "      <th>name</th>\n",
       "      <th>adress</th>\n",
       "    </tr>\n",
       "  </thead>\n",
       "  <tbody>\n",
       "    <tr>\n",
       "      <th>0</th>\n",
       "      <td>Jaizkibel</td>\n",
       "      <td>Calle de José Del Hierro, 29</td>\n",
       "    </tr>\n",
       "    <tr>\n",
       "      <th>1</th>\n",
       "      <td>Escuela Infantil Pipo’s</td>\n",
       "      <td>Calle de Cáceres, 50</td>\n",
       "    </tr>\n",
       "  </tbody>\n",
       "</table>\n",
       "</div>"
      ],
      "text/plain": [
       "                      name                        adress\n",
       "0                Jaizkibel  Calle de José Del Hierro, 29\n",
       "1  Escuela Infantil Pipo’s          Calle de Cáceres, 50"
      ]
     },
     "metadata": {},
     "output_type": "display_data"
    },
    {
     "data": {
      "text/html": [
       "<div>\n",
       "<style scoped>\n",
       "    .dataframe tbody tr th:only-of-type {\n",
       "        vertical-align: middle;\n",
       "    }\n",
       "\n",
       "    .dataframe tbody tr th {\n",
       "        vertical-align: top;\n",
       "    }\n",
       "\n",
       "    .dataframe thead th {\n",
       "        text-align: right;\n",
       "    }\n",
       "</style>\n",
       "<table border=\"1\" class=\"dataframe\">\n",
       "  <thead>\n",
       "    <tr style=\"text-align: right;\">\n",
       "      <th></th>\n",
       "      <th>name</th>\n",
       "      <th>adress</th>\n",
       "    </tr>\n",
       "  </thead>\n",
       "  <tbody>\n",
       "    <tr>\n",
       "      <th>0</th>\n",
       "      <td>Starbucks</td>\n",
       "      <td>Calle de José Ortega y Gasset, 29</td>\n",
       "    </tr>\n",
       "    <tr>\n",
       "      <th>1</th>\n",
       "      <td>Starbucks</td>\n",
       "      <td>Calle Doctor Drumen, 4</td>\n",
       "    </tr>\n",
       "  </tbody>\n",
       "</table>\n",
       "</div>"
      ],
      "text/plain": [
       "        name                             adress\n",
       "0  Starbucks  Calle de José Ortega y Gasset, 29\n",
       "1  Starbucks             Calle Doctor Drumen, 4"
      ]
     },
     "metadata": {},
     "output_type": "display_data"
    },
    {
     "data": {
      "text/html": [
       "<div>\n",
       "<style scoped>\n",
       "    .dataframe tbody tr th:only-of-type {\n",
       "        vertical-align: middle;\n",
       "    }\n",
       "\n",
       "    .dataframe tbody tr th {\n",
       "        vertical-align: top;\n",
       "    }\n",
       "\n",
       "    .dataframe thead th {\n",
       "        text-align: right;\n",
       "    }\n",
       "</style>\n",
       "<table border=\"1\" class=\"dataframe\">\n",
       "  <thead>\n",
       "    <tr style=\"text-align: right;\">\n",
       "      <th></th>\n",
       "      <th>name</th>\n",
       "      <th>adress</th>\n",
       "    </tr>\n",
       "  </thead>\n",
       "  <tbody>\n",
       "    <tr>\n",
       "      <th>0</th>\n",
       "      <td>Aeropuerto de Madrid-Barajas Adolfo Suárez</td>\n",
       "      <td>Avenida de la Hispanidad, s/n</td>\n",
       "    </tr>\n",
       "    <tr>\n",
       "      <th>1</th>\n",
       "      <td>Taxi Aeropuerto Madrid</td>\n",
       "      <td>Gran Vía, 30</td>\n",
       "    </tr>\n",
       "  </tbody>\n",
       "</table>\n",
       "</div>"
      ],
      "text/plain": [
       "                                         name                         adress\n",
       "0  Aeropuerto de Madrid-Barajas Adolfo Suárez  Avenida de la Hispanidad, s/n\n",
       "1                      Taxi Aeropuerto Madrid                   Gran Vía, 30"
      ]
     },
     "metadata": {},
     "output_type": "display_data"
    }
   ],
   "source": [
    "display(guarderiasretiroDatos.head(2),starbucksDatos.head(2),aeropuertoDatos.head(2))"
   ]
  },
  {
   "cell_type": "code",
   "execution_count": 30,
   "metadata": {},
   "outputs": [],
   "source": [
    "aeropuertoDatos[\"coordenadas\"]= geocodeGoogleMasivo(aeropuertoDatos)"
   ]
  },
  {
   "cell_type": "code",
   "execution_count": 31,
   "metadata": {},
   "outputs": [
    {
     "data": {
      "text/html": [
       "<div>\n",
       "<style scoped>\n",
       "    .dataframe tbody tr th:only-of-type {\n",
       "        vertical-align: middle;\n",
       "    }\n",
       "\n",
       "    .dataframe tbody tr th {\n",
       "        vertical-align: top;\n",
       "    }\n",
       "\n",
       "    .dataframe thead th {\n",
       "        text-align: right;\n",
       "    }\n",
       "</style>\n",
       "<table border=\"1\" class=\"dataframe\">\n",
       "  <thead>\n",
       "    <tr style=\"text-align: right;\">\n",
       "      <th></th>\n",
       "      <th>name</th>\n",
       "      <th>adress</th>\n",
       "      <th>coordenadas</th>\n",
       "    </tr>\n",
       "  </thead>\n",
       "  <tbody>\n",
       "    <tr>\n",
       "      <th>0</th>\n",
       "      <td>Jaizkibel</td>\n",
       "      <td>Calle de José Del Hierro, 29</td>\n",
       "      <td>{'type': 'Point', 'coordinates': [-3.6455125, ...</td>\n",
       "    </tr>\n",
       "    <tr>\n",
       "      <th>1</th>\n",
       "      <td>Escuela Infantil Pipo’s</td>\n",
       "      <td>Calle de Cáceres, 50</td>\n",
       "      <td>{'type': 'Point', 'coordinates': [-3.7000098, ...</td>\n",
       "    </tr>\n",
       "    <tr>\n",
       "      <th>2</th>\n",
       "      <td>El Bosque Encantado</td>\n",
       "      <td>Calle de Antonio López, 246</td>\n",
       "      <td>{'type': 'Point', 'coordinates': [-3.6959297, ...</td>\n",
       "    </tr>\n",
       "    <tr>\n",
       "      <th>3</th>\n",
       "      <td>Guarderia Arco de Colores</td>\n",
       "      <td>Calle Gumersindo Azcarate 32</td>\n",
       "      <td>{'type': 'Point', 'coordinates': [-3.7097628, ...</td>\n",
       "    </tr>\n",
       "    <tr>\n",
       "      <th>4</th>\n",
       "      <td>Guarderia Infantil Primeros Pasos</td>\n",
       "      <td>Calle Campo de la Paloma, 12</td>\n",
       "      <td>{'type': 'Point', 'coordinates': [-3.6465462, ...</td>\n",
       "    </tr>\n",
       "    <tr>\n",
       "      <th>5</th>\n",
       "      <td>Estrella Amdal</td>\n",
       "      <td>Calle Francisco Vitoria, 4</td>\n",
       "      <td>{'type': 'Point', 'coordinates': [-3.674009, 4...</td>\n",
       "    </tr>\n",
       "    <tr>\n",
       "      <th>6</th>\n",
       "      <td>Rocho Carmona Maria del Carmen</td>\n",
       "      <td>Calle Reyes Magos, 6</td>\n",
       "      <td>{'type': 'Point', 'coordinates': [-3.674691499...</td>\n",
       "    </tr>\n",
       "    <tr>\n",
       "      <th>7</th>\n",
       "      <td>Cei Fantasía</td>\n",
       "      <td>Calle Justa García 12</td>\n",
       "      <td>{'type': 'Point', 'coordinates': [-3.7095009, ...</td>\n",
       "    </tr>\n",
       "    <tr>\n",
       "      <th>8</th>\n",
       "      <td>Niro</td>\n",
       "      <td>Calle Andres Torrejon, 18</td>\n",
       "      <td>{'type': 'Point', 'coordinates': [-3.6818551, ...</td>\n",
       "    </tr>\n",
       "    <tr>\n",
       "      <th>9</th>\n",
       "      <td>Teddy Centro Infantil</td>\n",
       "      <td>Calle Leon GIL de Palacio, 5 - LC 10</td>\n",
       "      <td>{'type': 'Point', 'coordinates': [-3.6790747, ...</td>\n",
       "    </tr>\n",
       "    <tr>\n",
       "      <th>10</th>\n",
       "      <td>Cei Pamacoti-Estimulacion</td>\n",
       "      <td>Calle Puerto de Cotos, 7</td>\n",
       "      <td>{'type': 'Point', 'coordinates': [-3.658345, 4...</td>\n",
       "    </tr>\n",
       "    <tr>\n",
       "      <th>11</th>\n",
       "      <td>Cuquitos Guarderia</td>\n",
       "      <td>Calle Candilejas, 2</td>\n",
       "      <td>{'type': 'Point', 'coordinates': [-3.6610505, ...</td>\n",
       "    </tr>\n",
       "    <tr>\n",
       "      <th>12</th>\n",
       "      <td>Guarderia Infantil El Camino</td>\n",
       "      <td>Calle Salitre, 33</td>\n",
       "      <td>{'type': 'Point', 'coordinates': [-3.6992935, ...</td>\n",
       "    </tr>\n",
       "    <tr>\n",
       "      <th>13</th>\n",
       "      <td>Guarderias Reunidas</td>\n",
       "      <td>Calle Luis Mitjans, 29</td>\n",
       "      <td>{'type': 'Point', 'coordinates': [-3.6698899, ...</td>\n",
       "    </tr>\n",
       "    <tr>\n",
       "      <th>14</th>\n",
       "      <td>Guarderia Kika</td>\n",
       "      <td>Calle Antracita, 24</td>\n",
       "      <td>{'type': 'Point', 'coordinates': [-3.687219, 4...</td>\n",
       "    </tr>\n",
       "    <tr>\n",
       "      <th>15</th>\n",
       "      <td>Estrella Amdal</td>\n",
       "      <td>Calle Francisco Vitoria, 19</td>\n",
       "      <td>{'type': 'Point', 'coordinates': [-3.6726038, ...</td>\n",
       "    </tr>\n",
       "    <tr>\n",
       "      <th>16</th>\n",
       "      <td>Estrella Amdal</td>\n",
       "      <td>Calle Francisco Vitoria, 21</td>\n",
       "      <td>{'type': 'Point', 'coordinates': [-3.6724451, ...</td>\n",
       "    </tr>\n",
       "    <tr>\n",
       "      <th>17</th>\n",
       "      <td>Tenacio Vara Francisco</td>\n",
       "      <td>Calle Homero, 2</td>\n",
       "      <td>{'type': 'Point', 'coordinates': [-3.6718897, ...</td>\n",
       "    </tr>\n",
       "    <tr>\n",
       "      <th>18</th>\n",
       "      <td>Fema y Delsa</td>\n",
       "      <td>Calle Walia, 7</td>\n",
       "      <td>{'type': 'Point', 'coordinates': [-3.6718204, ...</td>\n",
       "    </tr>\n",
       "    <tr>\n",
       "      <th>19</th>\n",
       "      <td>Gredos San Diego S.C.L.</td>\n",
       "      <td>Avda Parque de Palomeras Bajas, 16</td>\n",
       "      <td>{'type': 'Point', 'coordinates': [-3.6609376, ...</td>\n",
       "    </tr>\n",
       "  </tbody>\n",
       "</table>\n",
       "</div>"
      ],
      "text/plain": [
       "                                 name                                adress  \\\n",
       "0                           Jaizkibel          Calle de José Del Hierro, 29   \n",
       "1             Escuela Infantil Pipo’s                  Calle de Cáceres, 50   \n",
       "2                 El Bosque Encantado           Calle de Antonio López, 246   \n",
       "3           Guarderia Arco de Colores          Calle Gumersindo Azcarate 32   \n",
       "4   Guarderia Infantil Primeros Pasos          Calle Campo de la Paloma, 12   \n",
       "5                      Estrella Amdal            Calle Francisco Vitoria, 4   \n",
       "6      Rocho Carmona Maria del Carmen                  Calle Reyes Magos, 6   \n",
       "7                        Cei Fantasía                 Calle Justa García 12   \n",
       "8                                Niro             Calle Andres Torrejon, 18   \n",
       "9               Teddy Centro Infantil  Calle Leon GIL de Palacio, 5 - LC 10   \n",
       "10          Cei Pamacoti-Estimulacion              Calle Puerto de Cotos, 7   \n",
       "11                 Cuquitos Guarderia                   Calle Candilejas, 2   \n",
       "12       Guarderia Infantil El Camino                     Calle Salitre, 33   \n",
       "13                Guarderias Reunidas                Calle Luis Mitjans, 29   \n",
       "14                     Guarderia Kika                   Calle Antracita, 24   \n",
       "15                     Estrella Amdal           Calle Francisco Vitoria, 19   \n",
       "16                     Estrella Amdal           Calle Francisco Vitoria, 21   \n",
       "17             Tenacio Vara Francisco                       Calle Homero, 2   \n",
       "18                       Fema y Delsa                        Calle Walia, 7   \n",
       "19            Gredos San Diego S.C.L.    Avda Parque de Palomeras Bajas, 16   \n",
       "\n",
       "                                          coordenadas  \n",
       "0   {'type': 'Point', 'coordinates': [-3.6455125, ...  \n",
       "1   {'type': 'Point', 'coordinates': [-3.7000098, ...  \n",
       "2   {'type': 'Point', 'coordinates': [-3.6959297, ...  \n",
       "3   {'type': 'Point', 'coordinates': [-3.7097628, ...  \n",
       "4   {'type': 'Point', 'coordinates': [-3.6465462, ...  \n",
       "5   {'type': 'Point', 'coordinates': [-3.674009, 4...  \n",
       "6   {'type': 'Point', 'coordinates': [-3.674691499...  \n",
       "7   {'type': 'Point', 'coordinates': [-3.7095009, ...  \n",
       "8   {'type': 'Point', 'coordinates': [-3.6818551, ...  \n",
       "9   {'type': 'Point', 'coordinates': [-3.6790747, ...  \n",
       "10  {'type': 'Point', 'coordinates': [-3.658345, 4...  \n",
       "11  {'type': 'Point', 'coordinates': [-3.6610505, ...  \n",
       "12  {'type': 'Point', 'coordinates': [-3.6992935, ...  \n",
       "13  {'type': 'Point', 'coordinates': [-3.6698899, ...  \n",
       "14  {'type': 'Point', 'coordinates': [-3.687219, 4...  \n",
       "15  {'type': 'Point', 'coordinates': [-3.6726038, ...  \n",
       "16  {'type': 'Point', 'coordinates': [-3.6724451, ...  \n",
       "17  {'type': 'Point', 'coordinates': [-3.6718897, ...  \n",
       "18  {'type': 'Point', 'coordinates': [-3.6718204, ...  \n",
       "19  {'type': 'Point', 'coordinates': [-3.6609376, ...  "
      ]
     },
     "execution_count": 31,
     "metadata": {},
     "output_type": "execute_result"
    }
   ],
   "source": [
    "guarderiasretiroDatos[\"coordenadas\"] = geocodeGoogleMasivo(guarderiasretiroDatos)\n",
    "guarderiasretiroDatos"
   ]
  },
  {
   "cell_type": "code",
   "execution_count": 32,
   "metadata": {},
   "outputs": [
    {
     "data": {
      "text/html": [
       "<div>\n",
       "<style scoped>\n",
       "    .dataframe tbody tr th:only-of-type {\n",
       "        vertical-align: middle;\n",
       "    }\n",
       "\n",
       "    .dataframe tbody tr th {\n",
       "        vertical-align: top;\n",
       "    }\n",
       "\n",
       "    .dataframe thead th {\n",
       "        text-align: right;\n",
       "    }\n",
       "</style>\n",
       "<table border=\"1\" class=\"dataframe\">\n",
       "  <thead>\n",
       "    <tr style=\"text-align: right;\">\n",
       "      <th></th>\n",
       "      <th>name</th>\n",
       "      <th>adress</th>\n",
       "      <th>coordenadas</th>\n",
       "    </tr>\n",
       "  </thead>\n",
       "  <tbody>\n",
       "    <tr>\n",
       "      <th>0</th>\n",
       "      <td>Starbucks</td>\n",
       "      <td>Calle de José Ortega y Gasset, 29</td>\n",
       "      <td>{'type': 'Point', 'coordinates': [-3.6830042, ...</td>\n",
       "    </tr>\n",
       "    <tr>\n",
       "      <th>1</th>\n",
       "      <td>Starbucks</td>\n",
       "      <td>Calle Doctor Drumen, 4</td>\n",
       "      <td>{'type': 'Point', 'coordinates': [-3.6931363, ...</td>\n",
       "    </tr>\n",
       "    <tr>\n",
       "      <th>2</th>\n",
       "      <td>Starbucks</td>\n",
       "      <td>Calle de la Montera, 8</td>\n",
       "      <td>{'type': 'Point', 'coordinates': [-3.7027745, ...</td>\n",
       "    </tr>\n",
       "    <tr>\n",
       "      <th>3</th>\n",
       "      <td>Starbucks</td>\n",
       "      <td>Calle del Conde de Peñalver, 10</td>\n",
       "      <td>{'type': 'Point', 'coordinates': [-3.6753894, ...</td>\n",
       "    </tr>\n",
       "    <tr>\n",
       "      <th>4</th>\n",
       "      <td>Starbucks</td>\n",
       "      <td>Calle Arenal, 14</td>\n",
       "      <td>{'type': 'Point', 'coordinates': [-3.7061836, ...</td>\n",
       "    </tr>\n",
       "    <tr>\n",
       "      <th>5</th>\n",
       "      <td>Starbucks</td>\n",
       "      <td>Plaza Cánovas del Castillo, 5</td>\n",
       "      <td>{'type': 'Point', 'coordinates': [-3.6950046, ...</td>\n",
       "    </tr>\n",
       "    <tr>\n",
       "      <th>6</th>\n",
       "      <td>Starbucks</td>\n",
       "      <td>Calle de Ciudad Rodrigo, 5</td>\n",
       "      <td>{'type': 'Point', 'coordinates': [-3.7084449, ...</td>\n",
       "    </tr>\n",
       "    <tr>\n",
       "      <th>7</th>\n",
       "      <td>Starbucks</td>\n",
       "      <td>Calle Gran Vía, 30</td>\n",
       "      <td>{'type': 'Point', 'coordinates': [-3.702459999...</td>\n",
       "    </tr>\n",
       "    <tr>\n",
       "      <th>8</th>\n",
       "      <td>Starbucks - CERRADO</td>\n",
       "      <td>Plaza de Callao, 4</td>\n",
       "      <td>{'type': 'Point', 'coordinates': [-3.7059615, ...</td>\n",
       "    </tr>\n",
       "    <tr>\n",
       "      <th>9</th>\n",
       "      <td>Starbucks</td>\n",
       "      <td>Calle Velázquez, 32</td>\n",
       "      <td>{'type': 'Point', 'coordinates': [-3.6839483, ...</td>\n",
       "    </tr>\n",
       "  </tbody>\n",
       "</table>\n",
       "</div>"
      ],
      "text/plain": [
       "                  name                             adress  \\\n",
       "0            Starbucks  Calle de José Ortega y Gasset, 29   \n",
       "1            Starbucks             Calle Doctor Drumen, 4   \n",
       "2            Starbucks             Calle de la Montera, 8   \n",
       "3            Starbucks    Calle del Conde de Peñalver, 10   \n",
       "4            Starbucks                   Calle Arenal, 14   \n",
       "5            Starbucks      Plaza Cánovas del Castillo, 5   \n",
       "6            Starbucks         Calle de Ciudad Rodrigo, 5   \n",
       "7            Starbucks                 Calle Gran Vía, 30   \n",
       "8  Starbucks - CERRADO                 Plaza de Callao, 4   \n",
       "9            Starbucks                Calle Velázquez, 32   \n",
       "\n",
       "                                         coordenadas  \n",
       "0  {'type': 'Point', 'coordinates': [-3.6830042, ...  \n",
       "1  {'type': 'Point', 'coordinates': [-3.6931363, ...  \n",
       "2  {'type': 'Point', 'coordinates': [-3.7027745, ...  \n",
       "3  {'type': 'Point', 'coordinates': [-3.6753894, ...  \n",
       "4  {'type': 'Point', 'coordinates': [-3.7061836, ...  \n",
       "5  {'type': 'Point', 'coordinates': [-3.6950046, ...  \n",
       "6  {'type': 'Point', 'coordinates': [-3.7084449, ...  \n",
       "7  {'type': 'Point', 'coordinates': [-3.702459999...  \n",
       "8  {'type': 'Point', 'coordinates': [-3.7059615, ...  \n",
       "9  {'type': 'Point', 'coordinates': [-3.6839483, ...  "
      ]
     },
     "execution_count": 32,
     "metadata": {},
     "output_type": "execute_result"
    }
   ],
   "source": [
    "starbucksDatos[\"coordenadas\"] =  geocodeGoogleMasivo(starbucksDatos)\n",
    "starbucksDatos"
   ]
  },
  {
   "cell_type": "code",
   "execution_count": 33,
   "metadata": {},
   "outputs": [
    {
     "data": {
      "text/html": [
       "<div>\n",
       "<style scoped>\n",
       "    .dataframe tbody tr th:only-of-type {\n",
       "        vertical-align: middle;\n",
       "    }\n",
       "\n",
       "    .dataframe tbody tr th {\n",
       "        vertical-align: top;\n",
       "    }\n",
       "\n",
       "    .dataframe thead th {\n",
       "        text-align: right;\n",
       "    }\n",
       "</style>\n",
       "<table border=\"1\" class=\"dataframe\">\n",
       "  <thead>\n",
       "    <tr style=\"text-align: right;\">\n",
       "      <th></th>\n",
       "      <th>name</th>\n",
       "      <th>adress</th>\n",
       "      <th>coordenadas</th>\n",
       "    </tr>\n",
       "  </thead>\n",
       "  <tbody>\n",
       "    <tr>\n",
       "      <th>0</th>\n",
       "      <td>Aeropuerto de Madrid-Barajas Adolfo Suárez</td>\n",
       "      <td>Avenida de la Hispanidad, s/n</td>\n",
       "      <td>{'type': 'Point', 'coordinates': [-3.5828701, ...</td>\n",
       "    </tr>\n",
       "    <tr>\n",
       "      <th>1</th>\n",
       "      <td>Taxi Aeropuerto Madrid</td>\n",
       "      <td>Gran Vía, 30</td>\n",
       "      <td>{'type': 'Point', 'coordinates': [-3.702459999...</td>\n",
       "    </tr>\n",
       "    <tr>\n",
       "      <th>2</th>\n",
       "      <td>Objetos Perdidos Aeropuerto de Madrid Barajas</td>\n",
       "      <td>Calle Aeropuerto de Barajas, s/n</td>\n",
       "      <td>{'type': 'Point', 'coordinates': [-3.5777281, ...</td>\n",
       "    </tr>\n",
       "    <tr>\n",
       "      <th>3</th>\n",
       "      <td>Iberia Puente Aereo</td>\n",
       "      <td>Aeropuerto de Barajas Terminal 4</td>\n",
       "      <td>{'type': 'Point', 'coordinates': [-3.5917845, ...</td>\n",
       "    </tr>\n",
       "    <tr>\n",
       "      <th>4</th>\n",
       "      <td>Aeropuerto de Madrid-Torrejon</td>\n",
       "      <td>Calle Peonias, 2</td>\n",
       "      <td>{'type': 'Point', 'coordinates': [-3.6179092, ...</td>\n",
       "    </tr>\n",
       "    <tr>\n",
       "      <th>5</th>\n",
       "      <td>Aeropuerto de Madrid - Cuatro Vientos</td>\n",
       "      <td>Carretera Barrio de la Fortuna, s/n</td>\n",
       "      <td>{'type': 'Point', 'coordinates': [-3.7714895, ...</td>\n",
       "    </tr>\n",
       "    <tr>\n",
       "      <th>6</th>\n",
       "      <td>Vip Sala Terminal 2</td>\n",
       "      <td>Avenida General, 43</td>\n",
       "      <td>{'type': 'Point', 'coordinates': [-3.5798852, ...</td>\n",
       "    </tr>\n",
       "    <tr>\n",
       "      <th>7</th>\n",
       "      <td>Aeropuerto De Madrid-Barajas Adolfo Suárez Ter...</td>\n",
       "      <td>Via Lusitana 27</td>\n",
       "      <td>{'type': 'Point', 'coordinates': [-3.7315917, ...</td>\n",
       "    </tr>\n",
       "  </tbody>\n",
       "</table>\n",
       "</div>"
      ],
      "text/plain": [
       "                                                name  \\\n",
       "0         Aeropuerto de Madrid-Barajas Adolfo Suárez   \n",
       "1                             Taxi Aeropuerto Madrid   \n",
       "2      Objetos Perdidos Aeropuerto de Madrid Barajas   \n",
       "3                                Iberia Puente Aereo   \n",
       "4                      Aeropuerto de Madrid-Torrejon   \n",
       "5              Aeropuerto de Madrid - Cuatro Vientos   \n",
       "6                                Vip Sala Terminal 2   \n",
       "7  Aeropuerto De Madrid-Barajas Adolfo Suárez Ter...   \n",
       "\n",
       "                                adress  \\\n",
       "0        Avenida de la Hispanidad, s/n   \n",
       "1                         Gran Vía, 30   \n",
       "2     Calle Aeropuerto de Barajas, s/n   \n",
       "3     Aeropuerto de Barajas Terminal 4   \n",
       "4                     Calle Peonias, 2   \n",
       "5  Carretera Barrio de la Fortuna, s/n   \n",
       "6                  Avenida General, 43   \n",
       "7                      Via Lusitana 27   \n",
       "\n",
       "                                         coordenadas  \n",
       "0  {'type': 'Point', 'coordinates': [-3.5828701, ...  \n",
       "1  {'type': 'Point', 'coordinates': [-3.702459999...  \n",
       "2  {'type': 'Point', 'coordinates': [-3.5777281, ...  \n",
       "3  {'type': 'Point', 'coordinates': [-3.5917845, ...  \n",
       "4  {'type': 'Point', 'coordinates': [-3.6179092, ...  \n",
       "5  {'type': 'Point', 'coordinates': [-3.7714895, ...  \n",
       "6  {'type': 'Point', 'coordinates': [-3.5798852, ...  \n",
       "7  {'type': 'Point', 'coordinates': [-3.7315917, ...  "
      ]
     },
     "execution_count": 33,
     "metadata": {},
     "output_type": "execute_result"
    }
   ],
   "source": [
    "aeropuertoDatos"
   ]
  },
  {
   "cell_type": "code",
   "execution_count": 34,
   "metadata": {},
   "outputs": [],
   "source": [
    "#Elimino las filas que no coinciden con un aeropuerto\n",
    "aeropuertoDatos.drop(aeropuertoDatos.index[[1,4,7]],inplace=True)"
   ]
  },
  {
   "cell_type": "code",
   "execution_count": 35,
   "metadata": {},
   "outputs": [],
   "source": [
    "starbucksDatos.to_json(\"Input/starbucksDatosGOOGLE.json\",orient=\"records\")\n",
    "guarderiasretiroDatos.to_json(\"Input/guarderiasretiroDatosGOOGLE.json\",orient=\"records\")\n",
    "aeropuertoDatos.to_json(\"Input/aeropuertoDatosGOOGLE.json\",orient=\"records\")"
   ]
  },
  {
   "cell_type": "code",
   "execution_count": 36,
   "metadata": {},
   "outputs": [
    {
     "name": "stdout",
     "output_type": "stream",
     "text": [
      "2020-06-03T16:07:45.919+0200\tconnected to: mongodb://localhost/\r\n",
      "2020-06-03T16:07:45.919+0200\tdropping: datamad0320.aeropuertoDatosGOOGLE.json\r\n",
      "2020-06-03T16:07:45.936+0200\t5 document(s) imported successfully. 0 document(s) failed to import.\r\n"
     ]
    }
   ],
   "source": [
    "!mongoimport --db=datamad0320 --collection=aeropuertoDatosGOOGLE.json --drop --jsonArray ./Input/aeropuertoDatosGOOGLE.json"
   ]
  },
  {
   "cell_type": "code",
   "execution_count": 37,
   "metadata": {},
   "outputs": [
    {
     "name": "stdout",
     "output_type": "stream",
     "text": [
      "2020-06-03T16:07:46.080+0200\tconnected to: mongodb://localhost/\r\n",
      "2020-06-03T16:07:46.080+0200\tdropping: datamad0320.guarderiasretiroDatosGOOGLE.json\r\n",
      "2020-06-03T16:07:46.098+0200\t20 document(s) imported successfully. 0 document(s) failed to import.\r\n"
     ]
    }
   ],
   "source": [
    "!mongoimport --db=datamad0320 --collection=guarderiasretiroDatosGOOGLE.json --drop --jsonArray ./Input/guarderiasretiroDatosGOOGLE.json"
   ]
  },
  {
   "cell_type": "code",
   "execution_count": 38,
   "metadata": {},
   "outputs": [
    {
     "name": "stdout",
     "output_type": "stream",
     "text": [
      "2020-06-03T16:07:46.232+0200\tconnected to: mongodb://localhost/\r\n",
      "2020-06-03T16:07:46.232+0200\tdropping: datamad0320.starbucksDatosGOOGLE.json\r\n",
      "2020-06-03T16:07:46.252+0200\t10 document(s) imported successfully. 0 document(s) failed to import.\r\n"
     ]
    }
   ],
   "source": [
    "!mongoimport --db=datamad0320 --collection=starbucksDatosGOOGLE.json --drop --jsonArray ./Input/starbucksDatosGOOGLE.json"
   ]
  },
  {
   "cell_type": "code",
   "execution_count": 39,
   "metadata": {},
   "outputs": [],
   "source": [
    "import folium\n",
    "import folium.plugins\n",
    "def etiquetar(cordenadas, nombre,color=\"blue\"):    \n",
    "    m = folium.Map(location=[madridcompanies.coordenadas[0][\"coordinates\"][1],madridcompanies.coordenadas[0][\"coordinates\"][0]],zoom_start=12, tiles='OpenStreetMap')\n",
    "    cluster = folium.plugins.MarkerCluster().add_to(m)\n",
    "    for names,latlong in zip(nombre,cordenadas):\n",
    "        folium.Marker(\n",
    "        location=[latlong[\"coordinates\"][1],latlong[\"coordinates\"][0]],\n",
    "        popup =names,\n",
    "        icon=folium.Icon(icon='ok-sign',color=color)\n",
    "        ).add_to(m)\n",
    "\n",
    "    return m     "
   ]
  },
  {
   "cell_type": "code",
   "execution_count": 40,
   "metadata": {},
   "outputs": [
    {
     "data": {
      "text/html": [
       "<div style=\"width:100%;\"><div style=\"position:relative;width:100%;height:0;padding-bottom:60%;\"><span style=\"color:#565656\">Make this Notebook Trusted to load map: File -> Trust Notebook</span><iframe src=\"about:blank\" style=\"position:absolute;width:100%;height:100%;left:0;top:0;border:none !important;\" data-html=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 onload=\"this.contentDocument.open();this.contentDocument.write(atob(this.getAttribute('data-html')));this.contentDocument.close();\" allowfullscreen webkitallowfullscreen mozallowfullscreen></iframe></div></div>"
      ],
      "text/plain": [
       "<folium.folium.Map at 0x7f509f3dd160>"
      ]
     },
     "execution_count": 40,
     "metadata": {},
     "output_type": "execute_result"
    }
   ],
   "source": [
    "mapamadridcompanies = etiquetar(madridcompanies.coordenadas,madridcompanies.name,\"green\")\n",
    "mapastarbucksDatos = etiquetar(starbucksDatos.coordenadas,starbucksDatos.name,\"red\")\n",
    "mapaguarderiasretiroDatos = etiquetar(guarderiasretiroDatos.coordenadas,guarderiasretiroDatos.name,\"purple\")\n",
    "mapaaeropuertos = etiquetar(aeropuertoDatos.coordenadas,aeropuertoDatos.name,(\"blue\"))\n",
    "mapaaeropuertos"
   ]
  },
  {
   "cell_type": "code",
   "execution_count": 41,
   "metadata": {},
   "outputs": [
    {
     "data": {
      "text/plain": [
       "(<folium.folium.Map at 0x7f509f3c3190>,\n",
       " <folium.folium.Map at 0x7f509f4d33a0>,\n",
       " <folium.folium.Map at 0x7f509f4c95b0>)"
      ]
     },
     "execution_count": 41,
     "metadata": {},
     "output_type": "execute_result"
    }
   ],
   "source": [
    "mapaguarderiasretiroDatos,mapamadridcompanies,mapastarbucksDatos"
   ]
  },
  {
   "cell_type": "code",
   "execution_count": 42,
   "metadata": {},
   "outputs": [
    {
     "data": {
      "text/html": [
       "<div style=\"width:100%;\"><div style=\"position:relative;width:100%;height:0;padding-bottom:60%;\"><span style=\"color:#565656\">Make this Notebook Trusted to load map: File -> Trust Notebook</span><iframe src=\"about:blank\" style=\"position:absolute;width:100%;height:100%;left:0;top:0;border:none !important;\" data-html=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 onload=\"this.contentDocument.open();this.contentDocument.write(atob(this.getAttribute('data-html')));this.contentDocument.close();\" allowfullscreen webkitallowfullscreen mozallowfullscreen></iframe></div></div>"
      ],
      "text/plain": [
       "<folium.folium.Map at 0x7f509f3a3ca0>"
      ]
     },
     "execution_count": 42,
     "metadata": {},
     "output_type": "execute_result"
    }
   ],
   "source": [
    "import folium.plugins\n",
    "\n",
    "m = folium.Map(location=[0, 0], zoom_start=2)\n",
    "lats = [37.25715519, -31.72884313, -75.27080391, 50.30897559]\n",
    "lons = [167.20482296, 23.5310324, 164.47413453, 26.87409742]\n",
    "\n",
    "cluster = folium.plugins.MarkerCluster().add_to(m)\n",
    "for i in range(0, 4):\n",
    "    folium.Marker(location=[lats[i], lons[i]], popup=str(i)).add_to(cluster)\n",
    "\n",
    "folium.LayerControl(collapsed=False).add_to(m)\n",
    "m"
   ]
  },
  {
   "cell_type": "code",
   "execution_count": 43,
   "metadata": {},
   "outputs": [],
   "source": [
    "query_busqueda={ \"Lugares\": {\n",
    "         \"$near\": {\n",
    "           \"$geometry\": {'type': 'Point',\n",
    "    'coordinates': [ 40.75677,-73.98964]},\n",
    "           \"$maxDistance\": 10000,\n",
    "         }\n",
    "       }}\n"
   ]
  },
  {
   "cell_type": "code",
   "execution_count": 44,
   "metadata": {},
   "outputs": [
    {
     "data": {
      "text/plain": [
       "[]"
      ]
     },
     "execution_count": 44,
     "metadata": {},
     "output_type": "execute_result"
    }
   ],
   "source": [
    "verrest =db.NewYorkRestaurantes.find(query_busqueda)\n",
    "restaurantesResult=list(verrest)\n",
    "restaurantesResult"
   ]
  }
 ],
 "metadata": {
  "kernelspec": {
   "display_name": "Python 3",
   "language": "python",
   "name": "python3"
  },
  "language_info": {
   "codemirror_mode": {
    "name": "ipython",
    "version": 3
   },
   "file_extension": ".py",
   "mimetype": "text/x-python",
   "name": "python",
   "nbconvert_exporter": "python",
   "pygments_lexer": "ipython3",
   "version": "3.8.2"
  }
 },
 "nbformat": 4,
 "nbformat_minor": 4
}
